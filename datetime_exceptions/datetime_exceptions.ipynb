{
 "cells": [
  {
   "cell_type": "code",
   "execution_count": 9,
   "metadata": {},
   "outputs": [],
   "source": [
    "from datetime import datetime, timedelta"
   ]
  },
  {
   "cell_type": "markdown",
   "metadata": {},
   "source": [
    "# Задание 1\n",
    "Печатные газеты использовали свой формат дат для каждого выпуска. Для каждой газеты из списка напишите формат указанной даты для перевода в объект datetime:\n",
    "* The Moscow Times - Wednesday, October 2, 2002\n",
    "* The Guardian - Friday, 11.10.13\n",
    "* Daily News - Thursday, 18 August 1977"
   ]
  },
  {
   "cell_type": "code",
   "execution_count": 7,
   "metadata": {},
   "outputs": [
    {
     "name": "stdout",
     "output_type": "stream",
     "text": [
      "2002-10-02 00:00:00\n",
      "2013-10-11 00:00:00\n",
      "1977-08-18 00:00:00\n"
     ]
    }
   ],
   "source": [
    "tmt = 'Wednesday, October 2, 2002'\n",
    "tg = 'Friday, 11.10.13'\n",
    "dn = 'Thursday, 18 August 1977'\n",
    "\n",
    "tmt_format = '%A, %B %d, %Y'\n",
    "tg_format = '%A, %d.%m.%y'\n",
    "dn_format = '%A, %d %B %Y'\n",
    "\n",
    "print(datetime.strptime(tmt, tmt_format))\n",
    "print(datetime.strptime(tg, tg_format))\n",
    "print(datetime.strptime(dn, dn_format))"
   ]
  },
  {
   "cell_type": "markdown",
   "metadata": {},
   "source": [
    "# Задание 2\n",
    "Дан поток дат в формате YYYY-MM-DD, в которых встречаются некорректные значения:\n",
    "```python\n",
    "stream = ['2018-04-02', '2018-02-29', '2018-19-02']\n",
    "```\n",
    "\n",
    "Напишите функцию, которая проверяет эти даты на корректность. Т. е. для каждой даты возвращает True (дата корректна) или False (некорректная дата)."
   ]
  },
  {
   "cell_type": "code",
   "execution_count": 8,
   "metadata": {},
   "outputs": [
    {
     "name": "stdout",
     "output_type": "stream",
     "text": [
      "True\n",
      "False\n",
      "False\n"
     ]
    }
   ],
   "source": [
    "stream = ['2018-04-02', '2018-02-29', '2018-19-02']\n",
    "\n",
    "def dt_is_correct(dt):\n",
    "    \"\"\"\n",
    "    Функция проверяет корректность даты по формату YYYY-MM-DD\n",
    "    \n",
    "    :param dt: Дата на проверку\n",
    "    :type dt: str\n",
    "    :return: True - если корректна, False - нет\n",
    "    :rtype: bool\n",
    "    \"\"\"\n",
    "    \n",
    "    try:\n",
    "        datetime.strptime(dt, '%Y-%m-%d')\n",
    "        return True\n",
    "    except:\n",
    "        return False\n",
    "\n",
    "\n",
    "\n",
    "for dt in stream:\n",
    "    print(dt_is_correct(dt))"
   ]
  },
  {
   "cell_type": "markdown",
   "metadata": {},
   "source": [
    "# Задание 3\n",
    "Напишите функцию date_range, которая возвращает список дат за период от start_date до end_date. Даты должны вводиться в формате YYYY-MM-DD. В случае неверного формата или при start_date > end_date должен возвращаться пустой список."
   ]
  },
  {
   "cell_type": "code",
   "execution_count": 32,
   "metadata": {},
   "outputs": [],
   "source": [
    "def date_range(start_date, end_date):\n",
    "    \"\"\"\n",
    "    Функция генерирует список дат за период, который задан входными параметрами.\n",
    "    Дата правой границы не входит в период.\n",
    "    \n",
    "    :param start_date: Дата начала периода в формате YYYY-MM-DD\n",
    "    :type start_date: str\n",
    "    :param end_date: Дата конца периода в формате YYYY-MM-DD\n",
    "    :type end_date: str\n",
    "    :return: Список дат в формате YYYY-MM-DD\n",
    "    :rtype: list\n",
    "    \n",
    "    \"\"\"\n",
    "    \n",
    "    stdf = '%Y-%m-%d' # Стандартный формат даты\n",
    "    \n",
    "    if not dt_is_correct(start_date) or not dt_is_correct(end_date): \n",
    "        return []\n",
    "    else:\n",
    "        list_dt = []\n",
    "        start_dt = datetime.strptime(start_date, stdf)\n",
    "        end_dt = datetime.strptime(end_date, stdf)\n",
    "        \n",
    "        cur_dt = start_dt\n",
    "        while cur_dt < end_dt:\n",
    "            list_dt.append(cur_dt.strftime(stdf))\n",
    "            cur_dt = cur_dt + timedelta(days=1)\n",
    "        \n",
    "        return list_dt"
   ]
  },
  {
   "cell_type": "code",
   "execution_count": 34,
   "metadata": {},
   "outputs": [
    {
     "name": "stdout",
     "output_type": "stream",
     "text": [
      "['2020-12-12', '2020-12-13', '2020-12-14']\n"
     ]
    }
   ],
   "source": [
    "start_date = '2020-12-12'\n",
    "end_date = '2020-12-15'\n",
    "\n",
    "print(date_range(start_date, end_date))"
   ]
  },
  {
   "cell_type": "code",
   "execution_count": 35,
   "metadata": {},
   "outputs": [
    {
     "name": "stdout",
     "output_type": "stream",
     "text": [
      "[]\n"
     ]
    }
   ],
   "source": [
    "start_date = '2020-13-12'\n",
    "end_date = '2020-12-13'\n",
    "\n",
    "print(date_range(start_date, end_date))"
   ]
  },
  {
   "cell_type": "code",
   "execution_count": 36,
   "metadata": {},
   "outputs": [
    {
     "name": "stdout",
     "output_type": "stream",
     "text": [
      "[]\n"
     ]
    }
   ],
   "source": [
    "start_date = '2020-12-14'\n",
    "end_date = '2020-12-13'\n",
    "\n",
    "print(date_range(start_date, end_date))"
   ]
  },
  {
   "cell_type": "markdown",
   "metadata": {},
   "source": [
    "# Задание 4 (бонусное)\n",
    "Ваш коллега прислал код функции:\n",
    "\n",
    "```python\n",
    "DEFAULT_USER_COUNT = 3\n",
    "\n",
    "def delete_and_return_last_user(region, default_list=['A100', 'A101', 'A102']):\n",
    "    \"\"\"\n",
    "    Удаляет из списка default_list последнего пользователя\n",
    "    и возвращает ID нового последнего пользователя.\n",
    "    \"\"\"\n",
    "    element_to_delete = default_list[-1]\n",
    "    default_list.remove(element_to_delete)\n",
    "\n",
    "    return default_list[DEFAULT_USER_COUNT-2]\n",
    "\n",
    "```\n",
    "\n",
    "При однократном вызове этой функции все работает корректно:\n",
    "\n",
    "```python\n",
    "delete_and_return_last_user(1)\n",
    "'A101'\n",
    "```\n",
    "\n",
    "Однако, при повторном вызове получается ошибка IndexError: list index out of range.\n",
    "\n",
    "Задание:\n",
    "\n",
    "1. Что значит ошибка list index out of range?\n",
    "    \n",
    "    **Ответ: Означает, что была попытка обратиться к элементу списка по номеру индекса, которого не существует**\n",
    "\n",
    "1. Почему при первом запуске функция работает корректно, а при втором - нет? \n",
    "\n",
    "    **Ответ: Потому что при первом запуске без передачи списка и в случае дефолтного списка из 3 элементов, индекс нового последнего пользователя действительно будет равен DEFAULT_USER_COUNT-2. Но при последующих вызовах внутри функции операции будут проводиться уже с изменённым на предыдущем запуске default_list, и индекса 1 уже не будет. Такое происходит потому, что при инициализации функции дефолтный список сразу создаётся в локальной области видимости функции. И когда при работе функции он изменяется, то остаётся в изменённом виде.**"
   ]
  },
  {
   "cell_type": "code",
   "execution_count": 57,
   "metadata": {},
   "outputs": [],
   "source": [
    "DEFAULT_USER_COUNT = 3\n",
    "\n",
    "def delete_and_return_last_user(region, default_list=['A100', 'A101', 'A102']):\n",
    "    \"\"\"\n",
    "    Удаляет из списка default_list последнего пользователя\n",
    "    и возвращает ID нового последнего пользователя.\n",
    "    \"\"\"\n",
    "    element_to_delete = default_list[-1]\n",
    "    default_list.remove(element_to_delete)\n",
    "\n",
    "    return default_list[DEFAULT_USER_COUNT-2]"
   ]
  },
  {
   "cell_type": "code",
   "execution_count": 58,
   "metadata": {},
   "outputs": [
    {
     "data": {
      "text/plain": [
       "'A101'"
      ]
     },
     "execution_count": 58,
     "metadata": {},
     "output_type": "execute_result"
    }
   ],
   "source": [
    "delete_and_return_last_user(1)"
   ]
  },
  {
   "cell_type": "code",
   "execution_count": 59,
   "metadata": {},
   "outputs": [
    {
     "ename": "IndexError",
     "evalue": "list index out of range",
     "output_type": "error",
     "traceback": [
      "\u001b[1;31m---------------------------------------------------------------------------\u001b[0m",
      "\u001b[1;31mIndexError\u001b[0m                                Traceback (most recent call last)",
      "\u001b[1;32m<ipython-input-59-bfb6c4f8c48e>\u001b[0m in \u001b[0;36m<module>\u001b[1;34m\u001b[0m\n\u001b[1;32m----> 1\u001b[1;33m \u001b[0mdelete_and_return_last_user\u001b[0m\u001b[1;33m(\u001b[0m\u001b[1;36m1\u001b[0m\u001b[1;33m)\u001b[0m\u001b[1;33m\u001b[0m\u001b[1;33m\u001b[0m\u001b[0m\n\u001b[0m",
      "\u001b[1;32m<ipython-input-57-62baa56d5abd>\u001b[0m in \u001b[0;36mdelete_and_return_last_user\u001b[1;34m(region, default_list)\u001b[0m\n\u001b[0;32m      9\u001b[0m     \u001b[0mdefault_list\u001b[0m\u001b[1;33m.\u001b[0m\u001b[0mremove\u001b[0m\u001b[1;33m(\u001b[0m\u001b[0melement_to_delete\u001b[0m\u001b[1;33m)\u001b[0m\u001b[1;33m\u001b[0m\u001b[1;33m\u001b[0m\u001b[0m\n\u001b[0;32m     10\u001b[0m \u001b[1;33m\u001b[0m\u001b[0m\n\u001b[1;32m---> 11\u001b[1;33m     \u001b[1;32mreturn\u001b[0m \u001b[0mdefault_list\u001b[0m\u001b[1;33m[\u001b[0m\u001b[0mDEFAULT_USER_COUNT\u001b[0m\u001b[1;33m-\u001b[0m\u001b[1;36m2\u001b[0m\u001b[1;33m]\u001b[0m\u001b[1;33m\u001b[0m\u001b[1;33m\u001b[0m\u001b[0m\n\u001b[0m",
      "\u001b[1;31mIndexError\u001b[0m: list index out of range"
     ]
    }
   ],
   "source": [
    "delete_and_return_last_user(1)"
   ]
  },
  {
   "cell_type": "code",
   "execution_count": null,
   "metadata": {},
   "outputs": [],
   "source": []
  }
 ],
 "metadata": {
  "kernelspec": {
   "display_name": "Python 3",
   "language": "python",
   "name": "python3"
  },
  "language_info": {
   "codemirror_mode": {
    "name": "ipython",
    "version": 3
   },
   "file_extension": ".py",
   "mimetype": "text/x-python",
   "name": "python",
   "nbconvert_exporter": "python",
   "pygments_lexer": "ipython3",
   "version": "3.7.4"
  }
 },
 "nbformat": 4,
 "nbformat_minor": 4
}
