{
 "cells": [
  {
   "cell_type": "markdown",
   "metadata": {},
   "source": [
    "# Домашнее задание к лекции \"Регулярные выражения\"\n",
    "\n",
    "Внимание! При реализации всех заданий необходимо использовать именно функционал регулярных выражений для обработки текста."
   ]
  },
  {
   "cell_type": "markdown",
   "metadata": {},
   "source": [
    "## Задание 1\n",
    "\n",
    "Напишите функцию, которая принимает на вход строку и проверяет является ли она валидным транспортным номером (1 буква, 3 цифры, 2 буквы, 2-3 цифры). Обратите внимание, что не все буквы кириллического алфавита используются в транспортных номерах.\n",
    "\n",
    "Если номер валиден, то функция должна возвращать отдельно номер и регион.\n",
    "\n",
    "Примеры работы программы:  \n",
    "\n",
    "1. `car_id = 'A222BC96'`\n",
    "\n",
    "Результат: \n",
    "`Номер A222BС валиден. Регион: 96`\n",
    "\n",
    "2. `car_id = 'АБ22ВВ193'`\n",
    "\n",
    "Результат: \n",
    "`Номер не валиден`"
   ]
  },
  {
   "cell_type": "code",
   "execution_count": 1,
   "metadata": {},
   "outputs": [],
   "source": [
    "import re"
   ]
  },
  {
   "cell_type": "code",
   "execution_count": 69,
   "metadata": {},
   "outputs": [],
   "source": [
    "def validate_grz(car_id):\n",
    "    lit_cyr = 'АВЕКМНОРСТУХ'\n",
    "    lit_lat = 'ABEKMHOPCTYX'\n",
    "    pattern = r'([#]{1}[0-9]{3}[#]{2})([0-9]{2,3})'.replace('#', lit_cyr+lit_lat)\n",
    "\n",
    "    m_obj = re.match(pattern, car_id)\n",
    "    if m_obj:\n",
    "        print(f'Номер {m_obj.group(1)} валиден. Регион: {m_obj.group(2)}')\n",
    "    else:\n",
    "        print('Номер не валиден')"
   ]
  },
  {
   "cell_type": "code",
   "execution_count": 70,
   "metadata": {},
   "outputs": [
    {
     "name": "stdout",
     "output_type": "stream",
     "text": [
      "Номер A222BC валиден. Регион: 96\n",
      "Номер не валиден\n"
     ]
    }
   ],
   "source": [
    "car_id = 'A222BC96'\n",
    "validate_grz(car_id)\n",
    "\n",
    "car_id = 'АБ22ВВ193'\n",
    "validate_grz(car_id)"
   ]
  },
  {
   "cell_type": "markdown",
   "metadata": {},
   "source": [
    "## Задание 2\n",
    "\n",
    "Напишите функцию, которая будет удалять все последовательные повторы слов из заданной строки при помощи регулярных выражений.\n",
    "\n",
    "Пример работы программы:  \n",
    "\n",
    "`some_string = 'Напишите функцию функцию, которая будет будет будет будет удалять все все все все последовательные повторы слов из из из из заданной строки строки при помощи регулярных выражений.'`\n",
    "\n",
    "Результат:  \n",
    "`Напишите функцию, которая будет удалять все последовательные повторы слов из заданной строки при помощи регулярных выражений.`"
   ]
  },
  {
   "cell_type": "code",
   "execution_count": 75,
   "metadata": {},
   "outputs": [],
   "source": [
    "def deduplicate_str(some_string):\n",
    "    \"\"\"\n",
    "    Функция удаления повторов слов в тексте\n",
    "    \"\"\"\n",
    "    \n",
    "    print(re.sub(r'([а-яА-Я]+)(?:\\s+\\1)+', r'\\1', some_string))"
   ]
  },
  {
   "cell_type": "code",
   "execution_count": 76,
   "metadata": {},
   "outputs": [
    {
     "name": "stdout",
     "output_type": "stream",
     "text": [
      "Напишите функцию, которая будет удалять все последовательные повторы слов из заданной строки при помощи регулярных выражений.\n"
     ]
    }
   ],
   "source": [
    "some_string = 'Напишите функцию функцию, которая будет будет будет будет удалять все все все все последовательные повторы слов из из из из заданной строки строки при помощи регулярных выражений.'\n",
    "\n",
    "deduplicate_str(some_string)"
   ]
  },
  {
   "cell_type": "markdown",
   "metadata": {},
   "source": [
    "## Задание 3\n",
    "\n",
    "Напишите функцию, которая будет возвращать акроним по переданной в нее строке со словами.\n",
    "\n",
    "Примеры работы программы:  \n",
    "\n",
    "1. `some_words = 'Информационные технологии'`\n",
    "\n",
    "Результат: \n",
    "`ИТ`\n",
    "\n",
    "2. `some_words = 'Near Field Communication'`\n",
    "\n",
    "Результат: \n",
    "`NFC`"
   ]
  },
  {
   "cell_type": "code",
   "execution_count": 77,
   "metadata": {},
   "outputs": [],
   "source": [
    "def get_acronym(some_words):\n",
    "    \"\"\"\n",
    "    Функция возвращает акроним по переданной строке\n",
    "    \"\"\"\n",
    "    \n",
    "    lst = re.findall(r'([a-zA-Zа-яА-Я]{1})(?:[a-zA-Zа-яА-Я]+)', some_words)\n",
    "\n",
    "    print(\"\".join(lst).upper())"
   ]
  },
  {
   "cell_type": "code",
   "execution_count": 79,
   "metadata": {},
   "outputs": [
    {
     "name": "stdout",
     "output_type": "stream",
     "text": [
      "ИТ\n",
      "NFC\n"
     ]
    }
   ],
   "source": [
    "some_words = 'Информационные технологии'\n",
    "get_acronym(some_words)\n",
    "\n",
    "some_words = 'Near Field Communication'\n",
    "get_acronym(some_words)"
   ]
  },
  {
   "cell_type": "markdown",
   "metadata": {},
   "source": [
    "## Задание 4\n",
    "\n",
    "Напишите функцию, которая будет принимать на вход список email-адресов и выводить их распределение по доменным зонам.\n",
    "\n",
    "Пример работы программы:  \n",
    "\n",
    "`emails = ['test@gmail.com', 'xyz@test.in', 'test@ya.ru', 'xyz@mail.ru', 'xyz@ya.ru', 'xyz@gmail.com']`\n",
    "\n",
    "Результат: \n",
    "```\n",
    "gmail.com: 2\n",
    "test.in: 1 \n",
    "ya.ru: 2 \n",
    "mail.ru: 1\n",
    "```"
   ]
  },
  {
   "cell_type": "code",
   "execution_count": 82,
   "metadata": {},
   "outputs": [],
   "source": [
    "def stat_domains(emails):\n",
    "    \"\"\"\n",
    "    Функция, которая принимает на вход список email-адресов и выводит их распределение по доменным зонам\n",
    "    \"\"\"\n",
    "    \n",
    "    dict_domain = {}\n",
    "\n",
    "    for email in emails:\n",
    "        m_obj = re.match(r'^[\\w.-]+@([\\w.-]+\\.\\w+)$', email)\n",
    "        dict_domain[m_obj.group(1)] = dict_domain.get(m_obj.group(1), 0) + 1\n",
    "\n",
    "\n",
    "    for key, value in dict_domain.items():\n",
    "        print(f'{key}: {value}')"
   ]
  },
  {
   "cell_type": "code",
   "execution_count": 83,
   "metadata": {},
   "outputs": [
    {
     "name": "stdout",
     "output_type": "stream",
     "text": [
      "gmail.com: 2\n",
      "test.in: 1\n",
      "ya.ru: 2\n",
      "mail.ru: 1\n"
     ]
    }
   ],
   "source": [
    "emails = ['test@gmail.com', 'xyz@test.in', 'test@ya.ru', 'xyz@mail.ru', 'xyz@ya.ru', 'xyz@gmail.com']\n",
    "stat_domains(emails)"
   ]
  },
  {
   "cell_type": "markdown",
   "metadata": {},
   "source": [
    "## Задание 5 (необязательное)\n",
    "\n",
    "Напишите функцию, которая будет подсчитывать сколько слов начинается на гласные, а сколько на согласные буквы в тексте (текст может быть написан как с использованием букв кириллицы, так и латиницы).\n",
    "\n",
    "Пример работы программы:  \n",
    "\n",
    "`some_text = 'Эталонной реализацией Python является интерпретатор CPython, поддерживающий большинство активно используемых платформ. Он распространяется под свободной лицензией Python Software Foundation License, позволяющей использовать его без ограничений в любых приложениях, включая проприетарные.'`\n",
    "\n",
    "Результат: \n",
    "```\n",
    "Слов на гласные буквы: 9\n",
    "Слов на согласные буквы: 21 \n",
    "```"
   ]
  },
  {
   "cell_type": "code",
   "execution_count": 84,
   "metadata": {},
   "outputs": [],
   "source": [
    "def stats_vowels_consonants(some_text):\n",
    "\n",
    "    lst = re.findall(r'([a-zA-Zа-яА-Я]{1})(?:[a-zA-Zа-яА-Я]*)', some_text)\n",
    "\n",
    "    V_lat = ['a','e','i','o','u']\n",
    "    V_cyr = ['а', 'у', 'о', 'ы', 'и', 'э', 'я', 'ю', 'ё', 'е']\n",
    "    V_all = []\n",
    "    V_all.extend(V_cyr)\n",
    "    V_all.extend(V_lat)\n",
    "\n",
    "    V_cnt = 0\n",
    "    C_cnt = 0\n",
    "\n",
    "    for lit in lst:\n",
    "        if lit.lower() in V_all:\n",
    "            V_cnt += 1\n",
    "        else:\n",
    "            C_cnt += 1\n",
    "\n",
    "    print(f'Слов на гласные буквы: {V_cnt}')\n",
    "    print(f'Слов на согласные буквы: {C_cnt}')"
   ]
  },
  {
   "cell_type": "code",
   "execution_count": 85,
   "metadata": {},
   "outputs": [
    {
     "name": "stdout",
     "output_type": "stream",
     "text": [
      "Слов на гласные буквы: 9\n",
      "Слов на согласные буквы: 21\n"
     ]
    }
   ],
   "source": [
    "some_text = \"\"\"Эталонной реализацией Python является интерпретатор CPython, поддерживающий большинство активно используемых \n",
    "платформ. Он распространяется под свободной лицензией Python Software Foundation License, позволяющей использовать его \n",
    "без ограничений в любых приложениях, включая проприетарные.\"\"\"\n",
    "\n",
    "stats_vowels_consonants(some_text)"
   ]
  },
  {
   "cell_type": "markdown",
   "metadata": {},
   "source": [
    "## Задание 6 (необязательное)\n",
    "Напишите функцию, которая будет проверять номер сотового телефона на валидность (только для российского формата), если он валиден, то переводить его в формат:   \n",
    "+7-xxx-xxx-xx-xx  \n",
    "Постарайтесь предусмотреть как можно больше адекватных форматов изначального ввода номера.\n",
    "Примеры работы программы:  \n",
    "\n",
    "1. `phone = '+7 955 555-55-55'`\n",
    "\n",
    "Результат: \n",
    "`+7-955-555-55-55`\n",
    "\n",
    "2. `phone = '8(955)555-55-55'`\n",
    "\n",
    "Результат: \n",
    "`+7-955-555-55-55`\n",
    "\n",
    "3. `phone = '+7 955 555 55 55'`\n",
    "\n",
    "Результат: \n",
    "`+7-955-555-55-55`\n",
    "\n",
    "4. `phone = '7(955) 555-55-55'`\n",
    "\n",
    "Результат: \n",
    "`+7-955-555-55-55`\n",
    "\n",
    "5. `phone = '423-555-55-5555'`\n",
    "\n",
    "Результат: \n",
    "`Номер не валиден`\n",
    "\n",
    "6. `phone = '123-456-789'`\n",
    "\n",
    "Результат: \n",
    "`Номер не валиден`"
   ]
  },
  {
   "cell_type": "code",
   "execution_count": 67,
   "metadata": {},
   "outputs": [],
   "source": [
    "def format_phone_number(phone):\n",
    "    \"\"\"\n",
    "    Функция приведения российского номера телефона к формату +7-xxx-xxx-xx-xx\n",
    "    \"\"\"\n",
    "    phone_clear = re.sub(r'[+\\-()\\s]', '', phone)  # Очистка от спец. символов\n",
    "    m_obj = re.match(r'([78]{1})([1-9]{1}[0-9]{2})([0-9]{3})([0-9]{2})([0-9]{2})', phone_clear)\n",
    "    \n",
    "    if m_obj:\n",
    "        print(re.sub(r'([78]{1})([1-9]{1}[0-9]{2})([0-9]{3})([0-9]{2})([0-9]{2})', r'+7-\\2-\\3-\\4-\\5', phone_clear))\n",
    "    else:\n",
    "        print('Номер не валиден')"
   ]
  },
  {
   "cell_type": "code",
   "execution_count": 68,
   "metadata": {},
   "outputs": [
    {
     "name": "stdout",
     "output_type": "stream",
     "text": [
      "+7-955-555-55-55\n",
      "+7-955-555-55-55\n",
      "+7-955-555-55-55\n",
      "+7-955-555-55-55\n",
      "Номер не валиден\n",
      "Номер не валиден\n"
     ]
    }
   ],
   "source": [
    "phone = '+7 955 555-55-55'\n",
    "format_phone_number(phone)\n",
    "\n",
    "phone = '8(955)555-55-55'\n",
    "format_phone_number(phone)\n",
    "\n",
    "phone = '+7 955 555 55 55'\n",
    "format_phone_number(phone)\n",
    "\n",
    "phone = '7(955) 555-55-55'\n",
    "format_phone_number(phone)\n",
    "\n",
    "phone = '423-555-55-5555'\n",
    "format_phone_number(phone)\n",
    "\n",
    "phone = '123-456-789'\n",
    "format_phone_number(phone)"
   ]
  },
  {
   "cell_type": "markdown",
   "metadata": {},
   "source": [
    "#### ПРИМЕЧАНИЕ\n",
    "Домашнее задание сдается ссылкой на репозиторий [GitHub](https://github.com/).\n",
    "Не сможем проверить или помочь, если вы пришлете:\n",
    "- файлы;\n",
    "- архивы;\n",
    "- скриншоты кода.\n",
    "\n",
    "Все обсуждения и консультации по выполнению домашнего задания ведутся только на соответствующем канале в slack.\n",
    "\n",
    "##### Как правильно задавать вопросы аспирантам, преподавателям и коллегам\n",
    "Прежде чем задать вопрос, попробуйте найти ответ в интернете. Навык самостоятельного поиска информации — один из важнейших. Каждый практикующий специалист любого уровня делает это ежедневно.\n",
    "\n",
    "Сформулируйте вопрос по алгоритму:  \n",
    "1) Что я делаю?  \n",
    "2) Какого результата я ожидаю?  \n",
    "3) Как фактический результат отличается от ожидаемого?  \n",
    "4) Что я уже попробовал сделать, чтобы исправить проблему?  \n",
    "\n",
    "По возможности прикрепите к вопросу скриншоты либо ссылки на код. Не выкладывайте все решение, оставляйте только проблемный и воспроизводимый участок кода."
   ]
  }
 ],
 "metadata": {
  "kernelspec": {
   "display_name": "Python 3",
   "language": "python",
   "name": "python3"
  },
  "language_info": {
   "codemirror_mode": {
    "name": "ipython",
    "version": 3
   },
   "file_extension": ".py",
   "mimetype": "text/x-python",
   "name": "python",
   "nbconvert_exporter": "python",
   "pygments_lexer": "ipython3",
   "version": "3.7.4"
  }
 },
 "nbformat": 4,
 "nbformat_minor": 2
}
