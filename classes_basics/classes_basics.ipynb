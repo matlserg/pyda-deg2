{
 "cells": [
  {
   "cell_type": "code",
   "execution_count": 3,
   "metadata": {},
   "outputs": [],
   "source": [
    "import requests"
   ]
  },
  {
   "cell_type": "markdown",
   "metadata": {},
   "source": [
    "# Задание 1\n",
    "Напишите функцию, которая возвращает название валюты (поле ‘Name’) с максимальным значением курса с помощью сервиса https://www.cbr-xml-daily.ru/daily_json.js"
   ]
  },
  {
   "cell_type": "code",
   "execution_count": 5,
   "metadata": {},
   "outputs": [],
   "source": [
    "def get_name_max_rate():\n",
    "    \"\"\"\n",
    "    Функция определяет валюту с максимальным курсом \n",
    "    на основе данных https://www.cbr-xml-daily.ru/daily_json.js\n",
    "    и возвращает название этой валюты.\n",
    "    \n",
    "    Пример JSON'а:\n",
    "    {\n",
    "    \"Date\": \"2020-12-12T11:30:00+03:00\",\n",
    "    \"PreviousDate\": \"2020-12-11T11:30:00+03:00\",\n",
    "    \"PreviousURL\": \"\\/\\/www.cbr-xml-daily.ru\\/archive\\/2020\\/12\\/11\\/daily_json.js\",\n",
    "    \"Timestamp\": \"2020-12-13T21:00:00+03:00\",\n",
    "    \"Valute\": {\n",
    "        \"AUD\": {\n",
    "            \"ID\": \"R01010\",\n",
    "            \"NumCode\": \"036\",\n",
    "            \"CharCode\": \"AUD\",\n",
    "            \"Nominal\": 1,\n",
    "            \"Name\": \"Австралийский доллар\",\n",
    "            \"Value\": 55.0955,\n",
    "            \"Previous\": 55.1148\n",
    "        },\n",
    "        ...\n",
    "      }\n",
    "    }\n",
    "    \n",
    "    >>> get_name_max_rate()\n",
    "    'СДР (специальные права заимствования)'\n",
    "    \n",
    "    \"\"\"\n",
    "    \n",
    "    data = requests.get('https://www.cbr-xml-daily.ru/daily_json.js').json()['Valute']\n",
    "    \n",
    "    max_rate = 0\n",
    "    max_rate_name = None\n",
    "    for key, value in data.items():\n",
    "        if value['Value'] > max_rate:\n",
    "            max_rate = value['Value']\n",
    "            max_rate_name = value['Name']\n",
    "    \n",
    "    # Улучшенная реализация алгоритма поиска максимума (от преподавателя)\n",
    "    # max_rate_name = max(data.items(), key=lambda x: x[1]['Value'])[1]['Name']\n",
    "    \n",
    "    return max_rate_name"
   ]
  },
  {
   "cell_type": "code",
   "execution_count": 6,
   "metadata": {},
   "outputs": [
    {
     "data": {
      "text/plain": [
       "'СДР (специальные права заимствования)'"
      ]
     },
     "execution_count": 6,
     "metadata": {},
     "output_type": "execute_result"
    }
   ],
   "source": [
    "get_name_max_rate()"
   ]
  },
  {
   "cell_type": "markdown",
   "metadata": {},
   "source": [
    "# Задание 2\n",
    "Добавьте в класс Rate параметр diff (со значениями True или False), который в случае значения True в методах курсов валют (eur, usd итд) будет возвращать не курс валюты, а изменение по сравнению в прошлым значением. Считайте, self.diff будет принимать значение True только при возврате значения курса. При отображении всей информации о валюте он не используется."
   ]
  },
  {
   "cell_type": "code",
   "execution_count": 20,
   "metadata": {},
   "outputs": [],
   "source": [
    "class Rate:\n",
    "    def __init__(self, format_='value', diff=False):\n",
    "        self.format = format_\n",
    "        self.diff = diff\n",
    "    \n",
    "    def exchange_rates(self):\n",
    "        \"\"\"\n",
    "        Возвращает ответ сервиса с информацией о валютах в виде:\n",
    "        \n",
    "        {\n",
    "            'AMD': {\n",
    "                'CharCode': 'AMD',\n",
    "                'ID': 'R01060',\n",
    "                'Name': 'Армянских драмов',\n",
    "                'Nominal': 100,\n",
    "                'NumCode': '051',\n",
    "                'Previous': 14.103,\n",
    "                'Value': 14.0879\n",
    "                },\n",
    "            ...\n",
    "        }\n",
    "        \"\"\"\n",
    "        self.r = requests.get('https://www.cbr-xml-daily.ru/daily_json.js')\n",
    "        return self.r.json()['Valute']\n",
    "    \n",
    "    def make_format(self, currency):\n",
    "        \"\"\"\n",
    "        Возвращает информацию о валюте currency в двух вариантах:\n",
    "        - полная информация о валюте при self.format = 'full':\n",
    "        Rate('full').make_format('EUR')\n",
    "        {\n",
    "            'CharCode': 'EUR',\n",
    "            'ID': 'R01239',\n",
    "            'Name': 'Евро',\n",
    "            'Nominal': 1,\n",
    "            'NumCode': '978',\n",
    "            'Previous': 79.6765,\n",
    "            'Value': 79.4966\n",
    "        }\n",
    "        \n",
    "        Rate('value').make_format('EUR')\n",
    "        79.4966\n",
    "        \"\"\"\n",
    "        response = self.exchange_rates()\n",
    "        \n",
    "        if currency in response:\n",
    "            if self.format == 'full':\n",
    "                return response[currency]\n",
    "            \n",
    "            if self.format == 'value':\n",
    "                if self.diff:  # Когда нужно вернуть изменение курса\n",
    "                    return round(response[currency]['Value'] - response[currency]['Previous'], 4)\n",
    "                elif not self.diff:\n",
    "                    return response[currency]['Value']\n",
    "        \n",
    "        return 'Error'\n",
    "    \n",
    "    def eur(self):\n",
    "        \"\"\"Возвращает курс евро на сегодня в формате self.format\"\"\"\n",
    "        return self.make_format('EUR')\n",
    "    \n",
    "    def usd(self):\n",
    "        \"\"\"Возвращает курс доллара на сегодня в формате self.format\"\"\"\n",
    "        return self.make_format('USD')\n",
    "    \n",
    "    def brl(self):\n",
    "        \"\"\"Возвращает курс бразильского реала на сегодня в формате self.format\"\"\"\n",
    "        return self.make_format('BRL')\n",
    "    \n",
    "    "
   ]
  },
  {
   "cell_type": "code",
   "execution_count": 21,
   "metadata": {},
   "outputs": [],
   "source": [
    "r = Rate(diff=True)"
   ]
  },
  {
   "cell_type": "code",
   "execution_count": 22,
   "metadata": {},
   "outputs": [
    {
     "data": {
      "text/plain": [
       "-0.3586"
      ]
     },
     "execution_count": 22,
     "metadata": {},
     "output_type": "execute_result"
    }
   ],
   "source": [
    "r.eur()"
   ]
  },
  {
   "cell_type": "markdown",
   "metadata": {},
   "source": [
    "# Задание 3\n",
    "Напишите класс Designer, который учитывает количество международных премий. Подсказки в коде занятия в разделе “Домашнее задание задача 3”.\n",
    "\n",
    "**Комментарий по классу Designer такой:**\n",
    "\n",
    "Напишите класс Designer, который учитывает количество международных премий для дизайнеров (из презентации: “Повышение на 1 грейд за каждые 7 баллов. Получение международной премии – это +2 балла”). Считайте, что при выходе на работу сотрудник уже имеет две премии и их количество не меняется со стажем (конечно если хотите это можно вручную менять).\n",
    "\n",
    "Класс Designer пишется по аналогии с классом Developer из материалов занятия. Комментарий про его условия Вика написала выше: “Повышение на 1 грейд за каждые 7 баллов. Получение международной премии – это +2 балла”"
   ]
  },
  {
   "cell_type": "code",
   "execution_count": 38,
   "metadata": {},
   "outputs": [],
   "source": [
    "class Employee:\n",
    "    def __init__(self, name, seniority):\n",
    "        self.name = name\n",
    "        self.seniority = seniority\n",
    "        \n",
    "        self.grade = 1\n",
    "    \n",
    "    def grade_up(self):\n",
    "        \"\"\"Повышает уровень сотрудника\"\"\"\n",
    "        self.grade += 1\n",
    "    \n",
    "    def publish_grade(self):\n",
    "        \"\"\"Публикация результатов аккредитации сотрудников\"\"\"\n",
    "        print(self.name, self.grade)"
   ]
  },
  {
   "cell_type": "code",
   "execution_count": 50,
   "metadata": {},
   "outputs": [],
   "source": [
    "class Designer(Employee):\n",
    "    def __init__(self, name, seniority):\n",
    "        super().__init__(name, seniority)\n",
    "        \n",
    "        self.inernational_awards = 2\n",
    "    \n",
    "    def check_if_it_is_time_for_upgrade(self):\n",
    "        # Добавление балла за прохождение аккредитации\n",
    "        self.seniority += 1\n",
    "        \n",
    "        # Учёт баллов за международные премии\n",
    "        sum_seniority = self.seniority + self.inernational_awards * 2\n",
    "        \n",
    "        # Повышение на 1 грейд за каждые 7 баллов\n",
    "        if sum_seniority % 7 == 0:\n",
    "            self.grade_up()\n",
    "            \n",
    "        return self.publish_grade()"
   ]
  },
  {
   "cell_type": "code",
   "execution_count": 51,
   "metadata": {},
   "outputs": [],
   "source": [
    "sergey = Designer(name='Sergey', seniority=0)"
   ]
  },
  {
   "cell_type": "code",
   "execution_count": 52,
   "metadata": {},
   "outputs": [
    {
     "name": "stdout",
     "output_type": "stream",
     "text": [
      "Sergey 1\n",
      "Sergey 1\n",
      "Sergey 2\n",
      "Sergey 2\n",
      "Sergey 2\n",
      "Sergey 2\n",
      "Sergey 2\n",
      "Sergey 2\n",
      "Sergey 2\n",
      "Sergey 3\n",
      "Sergey 3\n",
      "Sergey 3\n",
      "Sergey 3\n",
      "Sergey 3\n",
      "Sergey 3\n",
      "Sergey 3\n",
      "Sergey 4\n",
      "Sergey 4\n",
      "Sergey 4\n",
      "Sergey 4\n"
     ]
    }
   ],
   "source": [
    "for i in range(20):\n",
    "    sergey.check_if_it_is_time_for_upgrade()"
   ]
  },
  {
   "cell_type": "code",
   "execution_count": 53,
   "metadata": {},
   "outputs": [],
   "source": [
    "sergey = Designer(name='Sergey', seniority=0)"
   ]
  },
  {
   "cell_type": "code",
   "execution_count": 54,
   "metadata": {},
   "outputs": [],
   "source": [
    "sergey.inernational_awards = 1"
   ]
  },
  {
   "cell_type": "code",
   "execution_count": 55,
   "metadata": {},
   "outputs": [
    {
     "name": "stdout",
     "output_type": "stream",
     "text": [
      "Sergey 1\n",
      "Sergey 1\n",
      "Sergey 1\n",
      "Sergey 1\n",
      "Sergey 2\n",
      "Sergey 2\n",
      "Sergey 2\n",
      "Sergey 2\n",
      "Sergey 2\n",
      "Sergey 2\n",
      "Sergey 2\n",
      "Sergey 3\n",
      "Sergey 3\n",
      "Sergey 3\n",
      "Sergey 3\n",
      "Sergey 3\n",
      "Sergey 3\n",
      "Sergey 3\n",
      "Sergey 4\n",
      "Sergey 4\n"
     ]
    }
   ],
   "source": [
    "for i in range(20):\n",
    "    sergey.check_if_it_is_time_for_upgrade()"
   ]
  },
  {
   "cell_type": "code",
   "execution_count": null,
   "metadata": {},
   "outputs": [],
   "source": []
  }
 ],
 "metadata": {
  "kernelspec": {
   "display_name": "Python 3",
   "language": "python",
   "name": "python3"
  },
  "language_info": {
   "codemirror_mode": {
    "name": "ipython",
    "version": 3
   },
   "file_extension": ".py",
   "mimetype": "text/x-python",
   "name": "python",
   "nbconvert_exporter": "python",
   "pygments_lexer": "ipython3",
   "version": "3.7.4"
  }
 },
 "nbformat": 4,
 "nbformat_minor": 4
}
