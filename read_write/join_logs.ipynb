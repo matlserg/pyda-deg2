{
 "cells": [
  {
   "cell_type": "code",
   "execution_count": 1,
   "metadata": {},
   "outputs": [],
   "source": [
    "import json"
   ]
  },
  {
   "cell_type": "code",
   "execution_count": 7,
   "metadata": {},
   "outputs": [],
   "source": [
    "purchase_dict = {}\n",
    "\n",
    "with open('purchase_log.txt', 'r', encoding='utf-8') as pl_file:\n",
    "    for line in pl_file:\n",
    "        line = line.strip()\n",
    "        line_dict = json.loads(line)\n",
    "        \n",
    "        if line_dict['user_id'] == 'user_id':\n",
    "            continue\n",
    "        \n",
    "        purchase_dict[line_dict['user_id']] = line_dict['category']"
   ]
  },
  {
   "cell_type": "code",
   "execution_count": 9,
   "metadata": {},
   "outputs": [],
   "source": [
    "with open('visit_log.csv', 'r') as vl_file:\n",
    "    with open('funnel.csv', 'w') as f2write:\n",
    "        for line in vl_file:\n",
    "            line = line.strip()\n",
    "            \n",
    "            if line == 'user_id,source':\n",
    "                f2write.write(line + ',category\\n')\n",
    "                continue\n",
    "            \n",
    "            user_id = line.split(',')[0]\n",
    "            cat_nm = purchase_dict.get(user_id)\n",
    "            \n",
    "            if cat_nm is None:\n",
    "                continue\n",
    "            else:\n",
    "                f2write.write(f'{line},{cat_nm}\\n')"
   ]
  },
  {
   "cell_type": "code",
   "execution_count": null,
   "metadata": {},
   "outputs": [],
   "source": []
  }
 ],
 "metadata": {
  "kernelspec": {
   "display_name": "Python 3",
   "language": "python",
   "name": "python3"
  },
  "language_info": {
   "codemirror_mode": {
    "name": "ipython",
    "version": 3
   },
   "file_extension": ".py",
   "mimetype": "text/x-python",
   "name": "python",
   "nbconvert_exporter": "python",
   "pygments_lexer": "ipython3",
   "version": "3.7.4"
  }
 },
 "nbformat": 4,
 "nbformat_minor": 4
}
